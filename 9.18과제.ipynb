{
 "cells": [
  {
   "cell_type": "code",
   "execution_count": null,
   "metadata": {},
   "outputs": [],
   "source": [
    "import cv2\n",
    "import numpy as np\n",
    "\n",
    "\n",
    "def nothing(x):\n",
    "    pass\n",
    "\n",
    "\n",
    "drawing = False  # true if mouse is pressed\n",
    "ix, iy = -1, -1\n",
    "\n",
    "# mouse callback function\n",
    "\n",
    "\n",
    "def draw_rectangle(event, x, y, flags, param):\n",
    "    global ix, iy, drawing\n",
    "    font = cv2.FONT_HERSHEY_SIMPLEX\n",
    "    if event == cv2.EVENT_LBUTTONDOWN:\n",
    "        drawing = True\n",
    "        ix, iy = x, y\n",
    "    elif event == cv2.EVENT_MOUSEMOVE:\n",
    "        if drawing == True:\n",
    "            img[:50, :350, :] = img_temp[:50, :350, :]\n",
    "            cv2.putText(img, 'Mouse position ('+str(x)+','+str(y)+')',\n",
    "                        (10, 30), font, 0.8, (255, 255, 255), 2, cv2.LINE_AA)\n",
    "    elif event == cv2.EVENT_LBUTTONUP:\n",
    "        drawing = False\n",
    "        img[min(iy, y):max(iy, y), min(ix, x):max(ix, x), 0:-1] = value\n",
    "\n",
    "\n",
    "img = cv2.imread('images.jpg')\n",
    "img_temp = cv2.imread('images.jpg')\n",
    "cv2.namedWindow('image')\n",
    "cv2.setMouseCallback('image', draw_rectangle)\n",
    "\n",
    "# create trackbars\n",
    "cv2.createTrackbar('value', 'image', 0, 255, nothing)\n",
    "\n",
    "while(1):\n",
    "    cv2.imshow('image', img)\n",
    "    if cv2.waitKey(20) & 0xFF == 27:\n",
    "        break\n",
    "\n",
    "    # get current positions of trackbar\n",
    "    value = cv2.getTrackbarPos('value', 'image')\n",
    "\n",
    "cv2.destroyAllWindows()\n"
   ]
  }
 ],
 "metadata": {
  "kernelspec": {
   "display_name": "IP2023",
   "language": "python",
   "name": "python3"
  },
  "language_info": {
   "name": "python",
   "version": "3.8.17"
  },
  "orig_nbformat": 4
 },
 "nbformat": 4,
 "nbformat_minor": 2
}
