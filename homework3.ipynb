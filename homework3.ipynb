{
 "cells": [
  {
   "cell_type": "code",
   "execution_count": null,
   "metadata": {},
   "outputs": [],
   "source": [
    "import cv2\n",
    "import numpy as np\n",
    "\n",
    "img = cv2.imread('dsu2.jpg')\n",
    "rows, cols, ch = img.shape\n",
    "pts1 = np.float32([[180, 240,], [824, 223], [180, 505], [820, 513]])\n",
    "pts2 = np.float32([[100, 200], [700, 100], [100, 400], [700, 400]])\n",
    "M = cv2.getPerspectiveTransform(pts1, pts2)\n",
    "dst = cv2.warpPerspective(img, M, (800, 500))\n",
    "cv2.imshow('org_img', img)\n",
    "cv2.imshow('resize_img', dst)\n",
    "cv2.waitKey(0)\n",
    "cv2.destroyAllWindows()"
   ]
  }
 ],
 "metadata": {
  "language_info": {
   "name": "python"
  }
 },
 "nbformat": 4,
 "nbformat_minor": 2
}
